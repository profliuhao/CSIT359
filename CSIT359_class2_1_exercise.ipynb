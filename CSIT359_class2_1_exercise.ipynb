{
  "cells": [
    {
      "cell_type": "markdown",
      "metadata": {
        "id": "view-in-github",
        "colab_type": "text"
      },
      "source": [
        "<a href=\"https://colab.research.google.com/github/profliuhao/CSIT359/blob/master/CSIT359_class2_1_exercise.ipynb\" target=\"_parent\"><img src=\"https://colab.research.google.com/assets/colab-badge.svg\" alt=\"Open In Colab\"/></a>"
      ]
    },
    {
      "cell_type": "code",
      "source": [
        "# only run once\n",
        "!git clone https://github.com/profliuhao/CSIT359.git"
      ],
      "metadata": {
        "colab": {
          "base_uri": "https://localhost:8080/"
        },
        "id": "ikp0FiuPS7D5",
        "outputId": "49548d42-3540-4749-acdc-2f6a4f48b2ee"
      },
      "execution_count": 1,
      "outputs": [
        {
          "output_type": "stream",
          "name": "stdout",
          "text": [
            "Cloning into 'CSIT359'...\n",
            "remote: Enumerating objects: 69, done.\u001b[K\n",
            "remote: Counting objects: 100% (69/69), done.\u001b[K\n",
            "remote: Compressing objects: 100% (50/50), done.\u001b[K\n",
            "remote: Total 69 (delta 21), reused 50 (delta 10), pack-reused 0 (from 0)\u001b[K\n",
            "Receiving objects: 100% (69/69), 4.08 MiB | 9.77 MiB/s, done.\n",
            "Resolving deltas: 100% (21/21), done.\n"
          ]
        }
      ]
    },
    {
      "cell_type": "markdown",
      "metadata": {
        "id": "JBpURBnRSsTU"
      },
      "source": [
        "# CSIT 359 Class 2.1 Eexercise: Numpy and Pandas\n"
      ]
    },
    {
      "cell_type": "markdown",
      "metadata": {
        "id": "m0BHa8lOSsTW"
      },
      "source": [
        "### Instruction\n",
        "The file name is data.csv. It contains the information of all municipalities in New Jersery. The meaning of each colunmn is as follows:\n",
        "\n",
        "* Municipality: the name of the municipality\n",
        "* County: the county that the municipality belongs to\n",
        "* POP2010: the population of a municipality in 2010\n",
        "* POP2017: the population of a municipality in 2017\n",
        "* MunicipalType: the type of a municipality\n",
        "\n",
        "In this exercise, please use the functions and operations in pandas to answer the following questions.\n"
      ]
    },
    {
      "cell_type": "code",
      "execution_count": 2,
      "metadata": {
        "id": "eR2ctRiTSsTW"
      },
      "outputs": [],
      "source": [
        "# import pandas\n",
        "\n",
        "import pandas as pd"
      ]
    },
    {
      "cell_type": "markdown",
      "metadata": {
        "id": "vTntzLXRSsTW"
      },
      "source": [
        "## Exercise 0\n",
        "Read the file data.csv as a dataFrame named **df**. Assign the column 'Municipal' as the row index.\n",
        "\n",
        "#### Note\n",
        "1. Use **read_csv** to read the file to be a dataFrame\n",
        "2. Set the argument **index_col** to be the name of the first column\n",
        "3. Set the argument **thousands** to be ',' since there are thousand separators in the file"
      ]
    },
    {
      "cell_type": "code",
      "execution_count": 3,
      "metadata": {
        "id": "VSGo5ndKSsTX",
        "outputId": "f8f7c184-244a-4564-c233-2c0f7fb97d70",
        "colab": {
          "base_uri": "https://localhost:8080/",
          "height": 455
        }
      },
      "outputs": [
        {
          "output_type": "execute_result",
          "data": {
            "text/plain": [
              "                         County  POP2010  POP2017 MunicipalType\n",
              "Municipality                                                   \n",
              "Aberdeen               Monmouth    18157    18232      Township\n",
              "Absecon                Atlantic     8411     8283          City\n",
              "Alexandria Township   Hunterdon     4938     4805      Township\n",
              "Allamuchy                Warren     4323     4644      Township\n",
              "Allendale                Bergen     6505     6906       Borough\n",
              "...                         ...      ...      ...           ...\n",
              "Woodlynne                Camden     2978     2947       Borough\n",
              "Woodstown                 Salem     3505     3454       Borough\n",
              "Woolwich Township    Gloucester    10200    12472      Township\n",
              "Wrightstown          Burlington      802      785       Borough\n",
              "Wyckoff                  Bergen    16635    16941      Township\n",
              "\n",
              "[565 rows x 4 columns]"
            ],
            "text/html": [
              "\n",
              "  <div id=\"df-faf33e3d-763d-47a2-bc5f-8459c85cc44f\" class=\"colab-df-container\">\n",
              "    <div>\n",
              "<style scoped>\n",
              "    .dataframe tbody tr th:only-of-type {\n",
              "        vertical-align: middle;\n",
              "    }\n",
              "\n",
              "    .dataframe tbody tr th {\n",
              "        vertical-align: top;\n",
              "    }\n",
              "\n",
              "    .dataframe thead th {\n",
              "        text-align: right;\n",
              "    }\n",
              "</style>\n",
              "<table border=\"1\" class=\"dataframe\">\n",
              "  <thead>\n",
              "    <tr style=\"text-align: right;\">\n",
              "      <th></th>\n",
              "      <th>County</th>\n",
              "      <th>POP2010</th>\n",
              "      <th>POP2017</th>\n",
              "      <th>MunicipalType</th>\n",
              "    </tr>\n",
              "    <tr>\n",
              "      <th>Municipality</th>\n",
              "      <th></th>\n",
              "      <th></th>\n",
              "      <th></th>\n",
              "      <th></th>\n",
              "    </tr>\n",
              "  </thead>\n",
              "  <tbody>\n",
              "    <tr>\n",
              "      <th>Aberdeen</th>\n",
              "      <td>Monmouth</td>\n",
              "      <td>18157</td>\n",
              "      <td>18232</td>\n",
              "      <td>Township</td>\n",
              "    </tr>\n",
              "    <tr>\n",
              "      <th>Absecon</th>\n",
              "      <td>Atlantic</td>\n",
              "      <td>8411</td>\n",
              "      <td>8283</td>\n",
              "      <td>City</td>\n",
              "    </tr>\n",
              "    <tr>\n",
              "      <th>Alexandria Township</th>\n",
              "      <td>Hunterdon</td>\n",
              "      <td>4938</td>\n",
              "      <td>4805</td>\n",
              "      <td>Township</td>\n",
              "    </tr>\n",
              "    <tr>\n",
              "      <th>Allamuchy</th>\n",
              "      <td>Warren</td>\n",
              "      <td>4323</td>\n",
              "      <td>4644</td>\n",
              "      <td>Township</td>\n",
              "    </tr>\n",
              "    <tr>\n",
              "      <th>Allendale</th>\n",
              "      <td>Bergen</td>\n",
              "      <td>6505</td>\n",
              "      <td>6906</td>\n",
              "      <td>Borough</td>\n",
              "    </tr>\n",
              "    <tr>\n",
              "      <th>...</th>\n",
              "      <td>...</td>\n",
              "      <td>...</td>\n",
              "      <td>...</td>\n",
              "      <td>...</td>\n",
              "    </tr>\n",
              "    <tr>\n",
              "      <th>Woodlynne</th>\n",
              "      <td>Camden</td>\n",
              "      <td>2978</td>\n",
              "      <td>2947</td>\n",
              "      <td>Borough</td>\n",
              "    </tr>\n",
              "    <tr>\n",
              "      <th>Woodstown</th>\n",
              "      <td>Salem</td>\n",
              "      <td>3505</td>\n",
              "      <td>3454</td>\n",
              "      <td>Borough</td>\n",
              "    </tr>\n",
              "    <tr>\n",
              "      <th>Woolwich Township</th>\n",
              "      <td>Gloucester</td>\n",
              "      <td>10200</td>\n",
              "      <td>12472</td>\n",
              "      <td>Township</td>\n",
              "    </tr>\n",
              "    <tr>\n",
              "      <th>Wrightstown</th>\n",
              "      <td>Burlington</td>\n",
              "      <td>802</td>\n",
              "      <td>785</td>\n",
              "      <td>Borough</td>\n",
              "    </tr>\n",
              "    <tr>\n",
              "      <th>Wyckoff</th>\n",
              "      <td>Bergen</td>\n",
              "      <td>16635</td>\n",
              "      <td>16941</td>\n",
              "      <td>Township</td>\n",
              "    </tr>\n",
              "  </tbody>\n",
              "</table>\n",
              "<p>565 rows × 4 columns</p>\n",
              "</div>\n",
              "    <div class=\"colab-df-buttons\">\n",
              "\n",
              "  <div class=\"colab-df-container\">\n",
              "    <button class=\"colab-df-convert\" onclick=\"convertToInteractive('df-faf33e3d-763d-47a2-bc5f-8459c85cc44f')\"\n",
              "            title=\"Convert this dataframe to an interactive table.\"\n",
              "            style=\"display:none;\">\n",
              "\n",
              "  <svg xmlns=\"http://www.w3.org/2000/svg\" height=\"24px\" viewBox=\"0 -960 960 960\">\n",
              "    <path d=\"M120-120v-720h720v720H120Zm60-500h600v-160H180v160Zm220 220h160v-160H400v160Zm0 220h160v-160H400v160ZM180-400h160v-160H180v160Zm440 0h160v-160H620v160ZM180-180h160v-160H180v160Zm440 0h160v-160H620v160Z\"/>\n",
              "  </svg>\n",
              "    </button>\n",
              "\n",
              "  <style>\n",
              "    .colab-df-container {\n",
              "      display:flex;\n",
              "      gap: 12px;\n",
              "    }\n",
              "\n",
              "    .colab-df-convert {\n",
              "      background-color: #E8F0FE;\n",
              "      border: none;\n",
              "      border-radius: 50%;\n",
              "      cursor: pointer;\n",
              "      display: none;\n",
              "      fill: #1967D2;\n",
              "      height: 32px;\n",
              "      padding: 0 0 0 0;\n",
              "      width: 32px;\n",
              "    }\n",
              "\n",
              "    .colab-df-convert:hover {\n",
              "      background-color: #E2EBFA;\n",
              "      box-shadow: 0px 1px 2px rgba(60, 64, 67, 0.3), 0px 1px 3px 1px rgba(60, 64, 67, 0.15);\n",
              "      fill: #174EA6;\n",
              "    }\n",
              "\n",
              "    .colab-df-buttons div {\n",
              "      margin-bottom: 4px;\n",
              "    }\n",
              "\n",
              "    [theme=dark] .colab-df-convert {\n",
              "      background-color: #3B4455;\n",
              "      fill: #D2E3FC;\n",
              "    }\n",
              "\n",
              "    [theme=dark] .colab-df-convert:hover {\n",
              "      background-color: #434B5C;\n",
              "      box-shadow: 0px 1px 3px 1px rgba(0, 0, 0, 0.15);\n",
              "      filter: drop-shadow(0px 1px 2px rgba(0, 0, 0, 0.3));\n",
              "      fill: #FFFFFF;\n",
              "    }\n",
              "  </style>\n",
              "\n",
              "    <script>\n",
              "      const buttonEl =\n",
              "        document.querySelector('#df-faf33e3d-763d-47a2-bc5f-8459c85cc44f button.colab-df-convert');\n",
              "      buttonEl.style.display =\n",
              "        google.colab.kernel.accessAllowed ? 'block' : 'none';\n",
              "\n",
              "      async function convertToInteractive(key) {\n",
              "        const element = document.querySelector('#df-faf33e3d-763d-47a2-bc5f-8459c85cc44f');\n",
              "        const dataTable =\n",
              "          await google.colab.kernel.invokeFunction('convertToInteractive',\n",
              "                                                    [key], {});\n",
              "        if (!dataTable) return;\n",
              "\n",
              "        const docLinkHtml = 'Like what you see? Visit the ' +\n",
              "          '<a target=\"_blank\" href=https://colab.research.google.com/notebooks/data_table.ipynb>data table notebook</a>'\n",
              "          + ' to learn more about interactive tables.';\n",
              "        element.innerHTML = '';\n",
              "        dataTable['output_type'] = 'display_data';\n",
              "        await google.colab.output.renderOutput(dataTable, element);\n",
              "        const docLink = document.createElement('div');\n",
              "        docLink.innerHTML = docLinkHtml;\n",
              "        element.appendChild(docLink);\n",
              "      }\n",
              "    </script>\n",
              "  </div>\n",
              "\n",
              "\n",
              "<div id=\"df-c6a0c4dc-c203-4a0e-9013-40edea3dc372\">\n",
              "  <button class=\"colab-df-quickchart\" onclick=\"quickchart('df-c6a0c4dc-c203-4a0e-9013-40edea3dc372')\"\n",
              "            title=\"Suggest charts\"\n",
              "            style=\"display:none;\">\n",
              "\n",
              "<svg xmlns=\"http://www.w3.org/2000/svg\" height=\"24px\"viewBox=\"0 0 24 24\"\n",
              "     width=\"24px\">\n",
              "    <g>\n",
              "        <path d=\"M19 3H5c-1.1 0-2 .9-2 2v14c0 1.1.9 2 2 2h14c1.1 0 2-.9 2-2V5c0-1.1-.9-2-2-2zM9 17H7v-7h2v7zm4 0h-2V7h2v10zm4 0h-2v-4h2v4z\"/>\n",
              "    </g>\n",
              "</svg>\n",
              "  </button>\n",
              "\n",
              "<style>\n",
              "  .colab-df-quickchart {\n",
              "      --bg-color: #E8F0FE;\n",
              "      --fill-color: #1967D2;\n",
              "      --hover-bg-color: #E2EBFA;\n",
              "      --hover-fill-color: #174EA6;\n",
              "      --disabled-fill-color: #AAA;\n",
              "      --disabled-bg-color: #DDD;\n",
              "  }\n",
              "\n",
              "  [theme=dark] .colab-df-quickchart {\n",
              "      --bg-color: #3B4455;\n",
              "      --fill-color: #D2E3FC;\n",
              "      --hover-bg-color: #434B5C;\n",
              "      --hover-fill-color: #FFFFFF;\n",
              "      --disabled-bg-color: #3B4455;\n",
              "      --disabled-fill-color: #666;\n",
              "  }\n",
              "\n",
              "  .colab-df-quickchart {\n",
              "    background-color: var(--bg-color);\n",
              "    border: none;\n",
              "    border-radius: 50%;\n",
              "    cursor: pointer;\n",
              "    display: none;\n",
              "    fill: var(--fill-color);\n",
              "    height: 32px;\n",
              "    padding: 0;\n",
              "    width: 32px;\n",
              "  }\n",
              "\n",
              "  .colab-df-quickchart:hover {\n",
              "    background-color: var(--hover-bg-color);\n",
              "    box-shadow: 0 1px 2px rgba(60, 64, 67, 0.3), 0 1px 3px 1px rgba(60, 64, 67, 0.15);\n",
              "    fill: var(--button-hover-fill-color);\n",
              "  }\n",
              "\n",
              "  .colab-df-quickchart-complete:disabled,\n",
              "  .colab-df-quickchart-complete:disabled:hover {\n",
              "    background-color: var(--disabled-bg-color);\n",
              "    fill: var(--disabled-fill-color);\n",
              "    box-shadow: none;\n",
              "  }\n",
              "\n",
              "  .colab-df-spinner {\n",
              "    border: 2px solid var(--fill-color);\n",
              "    border-color: transparent;\n",
              "    border-bottom-color: var(--fill-color);\n",
              "    animation:\n",
              "      spin 1s steps(1) infinite;\n",
              "  }\n",
              "\n",
              "  @keyframes spin {\n",
              "    0% {\n",
              "      border-color: transparent;\n",
              "      border-bottom-color: var(--fill-color);\n",
              "      border-left-color: var(--fill-color);\n",
              "    }\n",
              "    20% {\n",
              "      border-color: transparent;\n",
              "      border-left-color: var(--fill-color);\n",
              "      border-top-color: var(--fill-color);\n",
              "    }\n",
              "    30% {\n",
              "      border-color: transparent;\n",
              "      border-left-color: var(--fill-color);\n",
              "      border-top-color: var(--fill-color);\n",
              "      border-right-color: var(--fill-color);\n",
              "    }\n",
              "    40% {\n",
              "      border-color: transparent;\n",
              "      border-right-color: var(--fill-color);\n",
              "      border-top-color: var(--fill-color);\n",
              "    }\n",
              "    60% {\n",
              "      border-color: transparent;\n",
              "      border-right-color: var(--fill-color);\n",
              "    }\n",
              "    80% {\n",
              "      border-color: transparent;\n",
              "      border-right-color: var(--fill-color);\n",
              "      border-bottom-color: var(--fill-color);\n",
              "    }\n",
              "    90% {\n",
              "      border-color: transparent;\n",
              "      border-bottom-color: var(--fill-color);\n",
              "    }\n",
              "  }\n",
              "</style>\n",
              "\n",
              "  <script>\n",
              "    async function quickchart(key) {\n",
              "      const quickchartButtonEl =\n",
              "        document.querySelector('#' + key + ' button');\n",
              "      quickchartButtonEl.disabled = true;  // To prevent multiple clicks.\n",
              "      quickchartButtonEl.classList.add('colab-df-spinner');\n",
              "      try {\n",
              "        const charts = await google.colab.kernel.invokeFunction(\n",
              "            'suggestCharts', [key], {});\n",
              "      } catch (error) {\n",
              "        console.error('Error during call to suggestCharts:', error);\n",
              "      }\n",
              "      quickchartButtonEl.classList.remove('colab-df-spinner');\n",
              "      quickchartButtonEl.classList.add('colab-df-quickchart-complete');\n",
              "    }\n",
              "    (() => {\n",
              "      let quickchartButtonEl =\n",
              "        document.querySelector('#df-c6a0c4dc-c203-4a0e-9013-40edea3dc372 button');\n",
              "      quickchartButtonEl.style.display =\n",
              "        google.colab.kernel.accessAllowed ? 'block' : 'none';\n",
              "    })();\n",
              "  </script>\n",
              "</div>\n",
              "\n",
              "  <div id=\"id_5e75db45-0b5e-4871-8ea4-84c88c162f98\">\n",
              "    <style>\n",
              "      .colab-df-generate {\n",
              "        background-color: #E8F0FE;\n",
              "        border: none;\n",
              "        border-radius: 50%;\n",
              "        cursor: pointer;\n",
              "        display: none;\n",
              "        fill: #1967D2;\n",
              "        height: 32px;\n",
              "        padding: 0 0 0 0;\n",
              "        width: 32px;\n",
              "      }\n",
              "\n",
              "      .colab-df-generate:hover {\n",
              "        background-color: #E2EBFA;\n",
              "        box-shadow: 0px 1px 2px rgba(60, 64, 67, 0.3), 0px 1px 3px 1px rgba(60, 64, 67, 0.15);\n",
              "        fill: #174EA6;\n",
              "      }\n",
              "\n",
              "      [theme=dark] .colab-df-generate {\n",
              "        background-color: #3B4455;\n",
              "        fill: #D2E3FC;\n",
              "      }\n",
              "\n",
              "      [theme=dark] .colab-df-generate:hover {\n",
              "        background-color: #434B5C;\n",
              "        box-shadow: 0px 1px 3px 1px rgba(0, 0, 0, 0.15);\n",
              "        filter: drop-shadow(0px 1px 2px rgba(0, 0, 0, 0.3));\n",
              "        fill: #FFFFFF;\n",
              "      }\n",
              "    </style>\n",
              "    <button class=\"colab-df-generate\" onclick=\"generateWithVariable('df')\"\n",
              "            title=\"Generate code using this dataframe.\"\n",
              "            style=\"display:none;\">\n",
              "\n",
              "  <svg xmlns=\"http://www.w3.org/2000/svg\" height=\"24px\"viewBox=\"0 0 24 24\"\n",
              "       width=\"24px\">\n",
              "    <path d=\"M7,19H8.4L18.45,9,17,7.55,7,17.6ZM5,21V16.75L18.45,3.32a2,2,0,0,1,2.83,0l1.4,1.43a1.91,1.91,0,0,1,.58,1.4,1.91,1.91,0,0,1-.58,1.4L9.25,21ZM18.45,9,17,7.55Zm-12,3A5.31,5.31,0,0,0,4.9,8.1,5.31,5.31,0,0,0,1,6.5,5.31,5.31,0,0,0,4.9,4.9,5.31,5.31,0,0,0,6.5,1,5.31,5.31,0,0,0,8.1,4.9,5.31,5.31,0,0,0,12,6.5,5.46,5.46,0,0,0,6.5,12Z\"/>\n",
              "  </svg>\n",
              "    </button>\n",
              "    <script>\n",
              "      (() => {\n",
              "      const buttonEl =\n",
              "        document.querySelector('#id_5e75db45-0b5e-4871-8ea4-84c88c162f98 button.colab-df-generate');\n",
              "      buttonEl.style.display =\n",
              "        google.colab.kernel.accessAllowed ? 'block' : 'none';\n",
              "\n",
              "      buttonEl.onclick = () => {\n",
              "        google.colab.notebook.generateWithVariable('df');\n",
              "      }\n",
              "      })();\n",
              "    </script>\n",
              "  </div>\n",
              "\n",
              "    </div>\n",
              "  </div>\n"
            ],
            "application/vnd.google.colaboratory.intrinsic+json": {
              "type": "dataframe",
              "variable_name": "df",
              "summary": "{\n  \"name\": \"df\",\n  \"rows\": 565,\n  \"fields\": [\n    {\n      \"column\": \"Municipality\",\n      \"properties\": {\n        \"dtype\": \"string\",\n        \"num_unique_values\": 552,\n        \"samples\": [\n          \"Woodlynne\",\n          \"Chesterfield\",\n          \"Ewing\"\n        ],\n        \"semantic_type\": \"\",\n        \"description\": \"\"\n      }\n    },\n    {\n      \"column\": \"County\",\n      \"properties\": {\n        \"dtype\": \"category\",\n        \"num_unique_values\": 21,\n        \"samples\": [\n          \"Monmouth\",\n          \"Cumberland\",\n          \"Passaic\"\n        ],\n        \"semantic_type\": \"\",\n        \"description\": \"\"\n      }\n    },\n    {\n      \"column\": \"POP2010\",\n      \"properties\": {\n        \"dtype\": \"number\",\n        \"std\": 23570,\n        \"min\": 5,\n        \"max\": 277140,\n        \"num_unique_values\": 559,\n        \"samples\": [\n          62300,\n          3809,\n          24958\n        ],\n        \"semantic_type\": \"\",\n        \"description\": \"\"\n      }\n    },\n    {\n      \"column\": \"POP2017\",\n      \"properties\": {\n        \"dtype\": \"number\",\n        \"std\": 24560,\n        \"min\": 5,\n        \"max\": 285154,\n        \"num_unique_values\": 557,\n        \"samples\": [\n          66734,\n          5508,\n          25692\n        ],\n        \"semantic_type\": \"\",\n        \"description\": \"\"\n      }\n    },\n    {\n      \"column\": \"MunicipalType\",\n      \"properties\": {\n        \"dtype\": \"category\",\n        \"num_unique_values\": 5,\n        \"samples\": [\n          \"City\",\n          \"Village\",\n          \"Borough\"\n        ],\n        \"semantic_type\": \"\",\n        \"description\": \"\"\n      }\n    }\n  ]\n}"
            }
          },
          "metadata": {},
          "execution_count": 3
        }
      ],
      "source": [
        "# file_dir = 'data.csv'\n",
        "file_dir = '/content/CSIT359/Module_2/CSIT359_class2_exercise/data.csv'\n",
        "df = pd.read_csv (file_dir, thousands=',', index_col=\"Municipality\")\n",
        "df"
      ]
    },
    {
      "cell_type": "markdown",
      "metadata": {
        "id": "81qfoZagSsTX"
      },
      "source": [
        "## Exercise 1\n",
        "What is the municipality with the most population in 2017?"
      ]
    },
    {
      "cell_type": "code",
      "execution_count": 4,
      "metadata": {
        "id": "2rVostr5SsTX"
      },
      "outputs": [],
      "source": [
        "# You should write your answer within this cell\n",
        "# write your code of exercise 1 here\n",
        "\n"
      ]
    },
    {
      "cell_type": "markdown",
      "metadata": {
        "id": "RVd96ecwSsTX"
      },
      "source": [
        "## Exercise 2\n",
        "How many municipalities are there in each county? The output should be a Series with the county name as the index and the number as the value.\n",
        "#### Hint:\n",
        "Choose the column of 'County' and use **values_counts** function to calculate the frequencies of values in that column."
      ]
    },
    {
      "cell_type": "code",
      "execution_count": 5,
      "metadata": {
        "id": "3GbMbKAwSsTX"
      },
      "outputs": [],
      "source": [
        "# You should write your answer within this cell\n",
        "# write your code of exercise 2 here\n",
        "\n"
      ]
    },
    {
      "cell_type": "markdown",
      "metadata": {
        "id": "BqFtSLaOSsTX"
      },
      "source": [
        "## Exercise 3\n",
        "Which municipality has the largest increasing in population from 2010 to 2017?\n",
        "The output should be a string."
      ]
    },
    {
      "cell_type": "code",
      "execution_count": 6,
      "metadata": {
        "id": "YUDhz-mTSsTX"
      },
      "outputs": [],
      "source": [
        "# You should write your answer within this cell\n",
        "# write your code of exercise 3 here\n",
        "\n"
      ]
    },
    {
      "cell_type": "markdown",
      "metadata": {
        "id": "xDk02LJySsTX"
      },
      "source": [
        "## Exercise 4\n",
        "What is the total population of the Essex county in 2017? The output should be an integer.\n",
        "#### Hint\n",
        "1. Create a new dataFrame which selects the rows that are 'Essex' in the column 'County'\n",
        "2. Choose the column 'POP2017' of the new dataFrame\n",
        "3. Apply sum method to get the sum of that column"
      ]
    },
    {
      "cell_type": "code",
      "execution_count": 7,
      "metadata": {
        "id": "Fy1WQkNdSsTX"
      },
      "outputs": [],
      "source": [
        "# You should write your answer within this cell\n",
        "# write your code of exercise 4 here\n",
        "\n"
      ]
    },
    {
      "cell_type": "markdown",
      "metadata": {
        "id": "M2vlb0L6SsTY"
      },
      "source": [
        "## Exercise 5\n",
        "Find the top five municipalities in population of 2017. List their county and the population of 2017. The output should be a dataFrame with two columns 'County' and 'POP2017', and the municipality as the index.\n",
        "\n",
        "#### Hint\n",
        "1. Sort **df** by the values in the column 'POP2017' in descending order.\n",
        "2. Choose the first 5 rows of the sorted **df**, and select their columns 'County' and 'POP2017'"
      ]
    },
    {
      "cell_type": "code",
      "execution_count": 8,
      "metadata": {
        "scrolled": true,
        "id": "wvHXIYwzSsTY"
      },
      "outputs": [],
      "source": [
        "# You should write your answer within this cell\n",
        "# write your code of exercise 5 here\n",
        "\n"
      ]
    },
    {
      "cell_type": "markdown",
      "metadata": {
        "id": "i2PKdWJ_SsTY"
      },
      "source": [
        "## Exercise 6\n",
        "What is the name of the township with the most population in 2010?"
      ]
    },
    {
      "cell_type": "code",
      "execution_count": 9,
      "metadata": {
        "id": "xXnhoOO5SsTY"
      },
      "outputs": [],
      "source": [
        "# You should write your answer within this cell\n",
        "# write your code of exercise 6 here\n",
        "\n"
      ]
    }
  ],
  "metadata": {
    "kernelspec": {
      "display_name": "Python 3 (ipykernel)",
      "language": "python",
      "name": "python3"
    },
    "language_info": {
      "codemirror_mode": {
        "name": "ipython",
        "version": 3
      },
      "file_extension": ".py",
      "mimetype": "text/x-python",
      "name": "python",
      "nbconvert_exporter": "python",
      "pygments_lexer": "ipython3",
      "version": "3.9.11"
    },
    "colab": {
      "provenance": [],
      "include_colab_link": true
    }
  },
  "nbformat": 4,
  "nbformat_minor": 0
}